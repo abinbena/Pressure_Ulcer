{
  "cells": [
    {
      "cell_type": "markdown",
      "metadata": {
        "id": "view-in-github",
        "colab_type": "text"
      },
      "source": [
        "<a href=\"https://colab.research.google.com/github/abinbena/Pressure_Ulcer/blob/main/PU_Model.ipynb\" target=\"_parent\"><img src=\"https://colab.research.google.com/assets/colab-badge.svg\" alt=\"Open In Colab\"/></a>"
      ]
    },
    {
      "cell_type": "code",
      "execution_count": null,
      "id": "97636022",
      "metadata": {
        "id": "97636022"
      },
      "outputs": [],
      "source": [
        "import pandas as pd\n",
        "import matplotlib.pyplot as plt\n",
        "from sklearn.metrics import make_scorer, accuracy_score\n",
        "from tensorflow.keras.preprocessing.image import ImageDataGenerator\n",
        "from tensorflow.keras.models import Sequential, load_model\n",
        "from tensorflow.keras.layers import Conv2D, MaxPooling2D, Flatten, Dense, Dropout, BatchNormalization\n",
        "from tensorflow.keras.callbacks import ModelCheckpoint\n",
        "from keras.regularizers import l1_l2\n",
        "from tensorflow.keras.applications import MobileNet, EfficientNetB0, Xception"
      ]
    },
    {
      "cell_type": "code",
      "execution_count": null,
      "id": "COWFGcYumuA_",
      "metadata": {
        "colab": {
          "base_uri": "https://localhost:8080/"
        },
        "id": "COWFGcYumuA_",
        "outputId": "e42a8737-41c9-4519-d6d8-f71e5391dfdd"
      },
      "outputs": [
        {
          "output_type": "stream",
          "name": "stdout",
          "text": [
            "Mounted at /content/drive\n"
          ]
        }
      ],
      "source": [
        "from google.colab import drive\n",
        "drive.mount('/content/drive')"
      ]
    },
    {
      "cell_type": "code",
      "execution_count": null,
      "id": "0067eb04",
      "metadata": {
        "id": "0067eb04"
      },
      "outputs": [],
      "source": [
        "train_df = pd.read_csv(\"/content/drive/My Drive/dataset_V1/train/label.csv\")\n",
        "test_df = pd.read_csv(\"/content/drive/My Drive/dataset_V1/test/label.csv\")\n",
        "val_df = pd.read_csv(\"/content/drive/My Drive/dataset_V1/valid/label.csv\")"
      ]
    },
    {
      "cell_type": "code",
      "execution_count": null,
      "id": "00f01ec6",
      "metadata": {
        "id": "00f01ec6"
      },
      "outputs": [],
      "source": [
        "# Tentukan jalur ke direktori gambar\n",
        "train_dir = \"/content/drive/My Drive/dataset_V1/train\"\n",
        "test_dir = \"/content/drive/My Drive/dataset_V1/test\"\n",
        "val_dir = \"/content/drive/My Drive/dataset_V1/valid\""
      ]
    },
    {
      "cell_type": "code",
      "execution_count": null,
      "id": "c2c75086",
      "metadata": {
        "id": "c2c75086"
      },
      "outputs": [],
      "source": [
        "# Definisikan generator gambar untuk data pelatihan dan validasi\n",
        "train_datagen = ImageDataGenerator(rescale =1./255,\n",
        "                                   rotation_range =20,\n",
        "                                   brightness_range=[0.8, 1.2],\n",
        "                                   horizontal_flip =True,\n",
        "                                   vertical_flip=True,\n",
        "                                   shear_range = 0.2,\n",
        "                                   fill_mode = \"nearest\")\n",
        "\n",
        "validation_datagen = ImageDataGenerator(rescale=1./255)"
      ]
    },
    {
      "cell_type": "code",
      "execution_count": null,
      "id": "0629d427",
      "metadata": {
        "colab": {
          "base_uri": "https://localhost:8080/"
        },
        "id": "0629d427",
        "outputId": "96e4d333-9969-4754-e236-c15dd22ee227"
      },
      "outputs": [
        {
          "output_type": "stream",
          "name": "stdout",
          "text": [
            "Found 4200 validated image filenames belonging to 4 classes.\n"
          ]
        }
      ],
      "source": [
        "train_generator = train_datagen.flow_from_dataframe(\n",
        "    train_df,\n",
        "    directory = train_dir,\n",
        "    x_col='filename',\n",
        "    y_col='class',\n",
        "    target_size=(320, 320),\n",
        "    batch_size=64,\n",
        "    class_mode='categorical'\n",
        ")"
      ]
    },
    {
      "cell_type": "code",
      "execution_count": null,
      "id": "01cd2010",
      "metadata": {
        "colab": {
          "base_uri": "https://localhost:8080/"
        },
        "id": "01cd2010",
        "outputId": "23fde7e5-4522-4401-c3a3-667af06c5360"
      },
      "outputs": [
        {
          "output_type": "stream",
          "name": "stdout",
          "text": [
            "Found 407 validated image filenames belonging to 4 classes.\n"
          ]
        }
      ],
      "source": [
        "validation_generator = validation_datagen.flow_from_dataframe(\n",
        "    val_df,\n",
        "    directory = val_dir,\n",
        "    x_col='filename',\n",
        "    y_col='class',\n",
        "    target_size=(320, 320),\n",
        "    batch_size=64,\n",
        "    class_mode='categorical'\n",
        ")"
      ]
    },
    {
      "cell_type": "code",
      "execution_count": null,
      "id": "3tblxIuMGZXy",
      "metadata": {
        "id": "3tblxIuMGZXy"
      },
      "outputs": [],
      "source": [
        "# @title MobileNet\n",
        "base_model = MobileNet(weights='imagenet', include_top=False, input_shape=(320, 320, 3))\n",
        "\n",
        "# Membuat regularizer ElasticNet\n",
        "elasticnet_regularizer = l1_l2(l1=0.01, l2=0.01)\n",
        "\n",
        "for layer in base_model.layers:\n",
        "    layer.trainable = False\n",
        "\n",
        "model = Sequential([\n",
        "    base_model,\n",
        "    Flatten(),\n",
        "    Dense(1024, activation =\"relu\", kernel_regularizer=elasticnet_regularizer),\n",
        "    BatchNormalization(),\n",
        "    Dropout(0.1),\n",
        "    Dense(4, activation =\"softmax\")\n",
        "])\n",
        "\n",
        "model.compile(optimizer='adam', loss='categorical_crossentropy', metrics=['accuracy'])"
      ]
    },
    {
      "cell_type": "code",
      "source": [
        "# @title EfficientNet\n",
        "base_model = EfficientNetB0(weights='imagenet', include_top=False, input_shape=(320, 320, 3))\n",
        "\n",
        "# Membuat regularizer ElasticNet\n",
        "elasticnet_regularizer = l1_l2(l1=0.01, l2=0.01)\n",
        "\n",
        "for layer in base_model.layers:\n",
        "    layer.trainable = False\n",
        "\n",
        "model = Sequential([\n",
        "    base_model,\n",
        "    Flatten(),\n",
        "    Dense(1024, activation =\"relu\", kernel_regularizer=elasticnet_regularizer),\n",
        "    BatchNormalization(),\n",
        "    Dropout(0.1),\n",
        "    Dense(4, activation =\"softmax\")\n",
        "])\n",
        "\n",
        "model.compile(optimizer='adam', loss='categorical_crossentropy', metrics=['accuracy'])"
      ],
      "metadata": {
        "id": "pycEMhi1WW0-"
      },
      "id": "pycEMhi1WW0-",
      "execution_count": null,
      "outputs": []
    },
    {
      "cell_type": "code",
      "source": [
        "# @title Xception\n",
        "base_model = Xception(weights='imagenet', include_top=False, input_shape=(320, 320, 3))\n",
        "\n",
        "# Membuat regularizer ElasticNet\n",
        "elasticnet_regularizer = l1_l2(l1=0.01, l2=0.01)\n",
        "\n",
        "for layer in base_model.layers:\n",
        "    layer.trainable = False\n",
        "\n",
        "model = Sequential([\n",
        "    base_model,\n",
        "    Flatten(),\n",
        "    Dense(1024, activation =\"relu\", kernel_regularizer=elasticnet_regularizer),\n",
        "    BatchNormalization(),\n",
        "    Dropout(0.1),\n",
        "    Dense(4, activation =\"softmax\")\n",
        "])\n",
        "\n",
        "model.compile(optimizer='adam', loss='categorical_crossentropy', metrics=['accuracy'])"
      ],
      "metadata": {
        "colab": {
          "base_uri": "https://localhost:8080/"
        },
        "id": "cttQnIIbZOaB",
        "outputId": "e073e678-5db4-4fb2-eba4-c95ef8798372"
      },
      "id": "cttQnIIbZOaB",
      "execution_count": null,
      "outputs": [
        {
          "output_type": "stream",
          "name": "stdout",
          "text": [
            "Downloading data from https://storage.googleapis.com/tensorflow/keras-applications/xception/xception_weights_tf_dim_ordering_tf_kernels_notop.h5\n",
            "83683744/83683744 [==============================] - 0s 0us/step\n"
          ]
        }
      ]
    },
    {
      "cell_type": "code",
      "execution_count": null,
      "id": "gnpp60M8H1tN",
      "metadata": {
        "id": "gnpp60M8H1tN",
        "colab": {
          "base_uri": "https://localhost:8080/"
        },
        "outputId": "d3f8e8c9-bd69-43aa-ffa5-362ffedf9920"
      },
      "outputs": [
        {
          "output_type": "stream",
          "name": "stdout",
          "text": [
            "Model: \"sequential_3\"\n",
            "_________________________________________________________________\n",
            " Layer (type)                Output Shape              Param #   \n",
            "=================================================================\n",
            " xception (Functional)       (None, 10, 10, 2048)      20861480  \n",
            "                                                                 \n",
            " flatten_3 (Flatten)         (None, 204800)            0         \n",
            "                                                                 \n",
            " dense_6 (Dense)             (None, 1024)              209716224 \n",
            "                                                                 \n",
            " batch_normalization_7 (Bat  (None, 1024)              4096      \n",
            " chNormalization)                                                \n",
            "                                                                 \n",
            " dropout_3 (Dropout)         (None, 1024)              0         \n",
            "                                                                 \n",
            " dense_7 (Dense)             (None, 4)                 4100      \n",
            "                                                                 \n",
            "=================================================================\n",
            "Total params: 230585900 (879.62 MB)\n",
            "Trainable params: 209722372 (800.03 MB)\n",
            "Non-trainable params: 20863528 (79.59 MB)\n",
            "_________________________________________________________________\n"
          ]
        }
      ],
      "source": [
        "model.summary()"
      ]
    },
    {
      "cell_type": "code",
      "execution_count": null,
      "id": "IKoDz4YXHk6N",
      "metadata": {
        "id": "IKoDz4YXHk6N"
      },
      "outputs": [],
      "source": [
        "# Checkpoint callback\n",
        "checkpoint = ModelCheckpoint(filepath='/content/drive/My Drive/dataset_V1/best_model.h5',\n",
        "                             monitor='val_accuracy',\n",
        "                             mode='max',\n",
        "                             verbose = 1,\n",
        "                             save_best_only=True)"
      ]
    },
    {
      "cell_type": "code",
      "execution_count": null,
      "id": "4bc63b15",
      "metadata": {
        "id": "4bc63b15"
      },
      "outputs": [],
      "source": [
        "history = model.fit(\n",
        "    train_generator,\n",
        "    steps_per_epoch=len(train_generator),\n",
        "    epochs=1,\n",
        "    validation_data=validation_generator,\n",
        "    validation_steps=len(validation_generator),\n",
        "    callbacks=[checkpoint]\n",
        ")"
      ]
    },
    {
      "cell_type": "code",
      "execution_count": null,
      "id": "4b80f248",
      "metadata": {
        "id": "4b80f248"
      },
      "outputs": [],
      "source": [
        "fig, axs = plt.subplots(2, 1, figsize=(10, 10))\n",
        "\n",
        "# Plot training & validation accuracy values\n",
        "axs[0].plot(history.history['accuracy'], label='Training Accuracy')\n",
        "axs[0].plot(history.history['val_accuracy'], label='Validation Accuracy')\n",
        "axs[0].set_title('Model Accuracy')\n",
        "axs[0].set_ylabel('Accuracy')\n",
        "axs[0].set_xlabel('Epoch')\n",
        "axs[0].legend(loc='lower right')\n",
        "\n",
        "# Plot training & validation loss values\n",
        "axs[1].plot(history.history['loss'], label='Training Loss')\n",
        "axs[1].plot(history.history['val_loss'], label='Validation Loss')\n",
        "axs[1].set_title('Model Loss')\n",
        "axs[1].set_ylabel('Loss')\n",
        "axs[1].set_xlabel('Epoch')\n",
        "axs[1].legend(loc='upper right')\n",
        "\n",
        "plt.tight_layout()\n",
        "\n",
        "plt.show()"
      ]
    },
    {
      "cell_type": "code",
      "execution_count": null,
      "id": "9c333d3b",
      "metadata": {
        "id": "9c333d3b"
      },
      "outputs": [],
      "source": [
        "model.save('/content/drive/My Drive/dataset_V1/cnn_model.h5')"
      ]
    },
    {
      "cell_type": "code",
      "execution_count": null,
      "id": "7f2683fa",
      "metadata": {
        "id": "7f2683fa"
      },
      "outputs": [],
      "source": [
        "model = load_model(\"/content/drive/My Drive/dataset_V1/best_model.h5\")\n",
        "#best_model = load_model(\"best_model.h5\")"
      ]
    },
    {
      "cell_type": "code",
      "execution_count": null,
      "id": "8ff84717",
      "metadata": {
        "colab": {
          "base_uri": "https://localhost:8080/"
        },
        "id": "8ff84717",
        "outputId": "894f27fc-e9aa-4edf-e29f-605479a70b3b"
      },
      "outputs": [
        {
          "name": "stdout",
          "output_type": "stream",
          "text": [
            "Found 206 validated image filenames belonging to 4 classes.\n"
          ]
        }
      ],
      "source": [
        "test_datagen = ImageDataGenerator(rescale=1./255)\n",
        "test_generator = test_datagen.flow_from_dataframe(\n",
        "    test_df,\n",
        "    directory = test_dir,\n",
        "    x_col='filename',\n",
        "    y_col='class',\n",
        "    target_size=(320, 320), #editable (pastikan sama dengan input shape/target shape pada training sebelumnya)\n",
        "    batch_size=1, #editable\n",
        "    class_mode='categorical'\n",
        ")"
      ]
    },
    {
      "cell_type": "code",
      "execution_count": null,
      "id": "d9eaa4e1",
      "metadata": {
        "colab": {
          "base_uri": "https://localhost:8080/"
        },
        "id": "d9eaa4e1",
        "outputId": "e934da0c-e838-4af4-9200-604444309b19"
      },
      "outputs": [
        {
          "name": "stderr",
          "output_type": "stream",
          "text": [
            "<ipython-input-13-025c0bf545e9>:1: UserWarning: `Model.evaluate_generator` is deprecated and will be removed in a future version. Please use `Model.evaluate`, which supports generators.\n",
            "  evaluation1 = model.evaluate_generator(test_generator, steps=len(test_generator))\n"
          ]
        }
      ],
      "source": [
        "evaluation1 = model.evaluate_generator(test_generator, steps=len(test_generator))"
      ]
    },
    {
      "cell_type": "code",
      "execution_count": null,
      "id": "273da143",
      "metadata": {
        "colab": {
          "base_uri": "https://localhost:8080/"
        },
        "id": "273da143",
        "outputId": "f81d772a-2e29-4b30-e88b-fbcf78d5513f"
      },
      "outputs": [
        {
          "name": "stdout",
          "output_type": "stream",
          "text": [
            "Latest Model\n",
            "Loss: 1.1966100931167603\n",
            "Accuracy: 0.8009708523750305\n"
          ]
        }
      ],
      "source": [
        "# Print hasil evaluasi\n",
        "print(\"Latest Model\")\n",
        "print(\"Loss:\", evaluation1[0])\n",
        "print(\"Accuracy:\", evaluation1[1])\n",
        "\n",
        "#print(\"Best Model\")\n",
        "#print(\"Loss:\", evaluation2[0])\n",
        "#print(\"Accuracy:\", evaluation2[1])"
      ]
    }
  ],
  "metadata": {
    "colab": {
      "provenance": [],
      "include_colab_link": true
    },
    "kernelspec": {
      "display_name": "Python 3",
      "name": "python3"
    },
    "language_info": {
      "codemirror_mode": {
        "name": "ipython",
        "version": 3
      },
      "file_extension": ".py",
      "mimetype": "text/x-python",
      "name": "python",
      "nbconvert_exporter": "python",
      "pygments_lexer": "ipython3",
      "version": "3.10.9"
    }
  },
  "nbformat": 4,
  "nbformat_minor": 5
}